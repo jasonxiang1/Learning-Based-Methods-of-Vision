{
  "nbformat": 4,
  "nbformat_minor": 5,
  "metadata": {
    "kernelspec": {
      "display_name": "Python 3",
      "language": "python",
      "name": "python3"
    },
    "language_info": {
      "codemirror_mode": {
        "name": "ipython",
        "version": 3
      },
      "file_extension": ".py",
      "mimetype": "text/x-python",
      "name": "python",
      "nbconvert_exporter": "python",
      "pygments_lexer": "ipython3",
      "version": "3.8.5"
    },
    "colab": {
      "name": "task_0.ipynb",
      "provenance": []
    }
  },
  "cells": [
    {
      "cell_type": "markdown",
      "metadata": {
        "id": "overhead-clinic"
      },
      "source": [
        "# Part 0: Dataloader and Visualizations"
      ],
      "id": "overhead-clinic"
    },
    {
      "cell_type": "code",
      "metadata": {
        "colab": {
          "base_uri": "https://localhost:8080/"
        },
        "id": "yK__5gry7e0J",
        "outputId": "2d493345-0b70-4c02-b30d-f908731b1503"
      },
      "source": [
        "!pwd # currently in /content folder\n",
        "!wget http://host.robots.ox.ac.uk/pascal/VOC/voc2007/VOCtrainval_06-Nov-2007.tar"
      ],
      "id": "yK__5gry7e0J",
      "execution_count": 3,
      "outputs": [
        {
          "output_type": "stream",
          "text": [
            "/content\n",
            "--2021-03-12 05:36:28--  http://host.robots.ox.ac.uk/pascal/VOC/voc2007/VOCtrainval_06-Nov-2007.tar\n",
            "Resolving host.robots.ox.ac.uk (host.robots.ox.ac.uk)... 129.67.94.152\n",
            "Connecting to host.robots.ox.ac.uk (host.robots.ox.ac.uk)|129.67.94.152|:80... connected.\n",
            "HTTP request sent, awaiting response... 200 OK\n",
            "Length: 460032000 (439M) [application/x-tar]\n",
            "Saving to: ‘VOCtrainval_06-Nov-2007.tar.1’\n",
            "\n",
            "VOCtrainval_06-Nov- 100%[===================>] 438.72M  13.5MB/s    in 33s     \n",
            "\n",
            "2021-03-12 05:37:01 (13.1 MB/s) - ‘VOCtrainval_06-Nov-2007.tar.1’ saved [460032000/460032000]\n",
            "\n"
          ],
          "name": "stdout"
        }
      ]
    },
    {
      "cell_type": "code",
      "metadata": {
        "id": "4DsvC_uq7861"
      },
      "source": [
        "!tar xf VOCtrainval_06-Nov-2007.tar"
      ],
      "id": "4DsvC_uq7861",
      "execution_count": 4,
      "outputs": []
    },
    {
      "cell_type": "code",
      "metadata": {
        "colab": {
          "base_uri": "https://localhost:8080/"
        },
        "id": "lEyGzSOr8H-n",
        "outputId": "130127b7-5c7a-451f-f75c-4dbb3743b223"
      },
      "source": [
        "!wget http://host.robots.ox.ac.uk/pascal/VOC/voc2007/VOCtest_06-Nov-2007.tar && tar xf VOCtest_06-Nov-2007.tar"
      ],
      "id": "lEyGzSOr8H-n",
      "execution_count": 5,
      "outputs": [
        {
          "output_type": "stream",
          "text": [
            "--2021-03-12 05:37:35--  http://host.robots.ox.ac.uk/pascal/VOC/voc2007/VOCtest_06-Nov-2007.tar\n",
            "Resolving host.robots.ox.ac.uk (host.robots.ox.ac.uk)... 129.67.94.152\n",
            "Connecting to host.robots.ox.ac.uk (host.robots.ox.ac.uk)|129.67.94.152|:80... connected.\n",
            "HTTP request sent, awaiting response... 200 OK\n",
            "Length: 451020800 (430M) [application/x-tar]\n",
            "Saving to: ‘VOCtest_06-Nov-2007.tar’\n",
            "\n",
            "VOCtest_06-Nov-2007 100%[===================>] 430.13M  13.3MB/s    in 33s     \n",
            "\n",
            "2021-03-12 05:38:08 (13.1 MB/s) - ‘VOCtest_06-Nov-2007.tar’ saved [451020800/451020800]\n",
            "\n"
          ],
          "name": "stdout"
        }
      ]
    },
    {
      "cell_type": "code",
      "metadata": {
        "id": "xuvEQgiX8Lh6"
      },
      "source": [
        "!cd VOCdevkit/VOC2007\n",
        "!export DATA_DIR=$(pwd)"
      ],
      "id": "xuvEQgiX8Lh6",
      "execution_count": 6,
      "outputs": []
    },
    {
      "cell_type": "code",
      "metadata": {
        "id": "RgrKIVpw8lQ5",
        "outputId": "2c4f8c15-cec1-4748-d6fe-3e6e934f31ae",
        "colab": {
          "base_uri": "https://localhost:8080/"
        }
      },
      "source": [
        "!pwd # back on /content\n",
        "!cd VOCdevkit/VOC2007/\n",
        "# !wget http://www.cs.cmu.edu/~spurushw/hw2_files/selective_search_data.tar\n",
        "# !tar xf selective_search_data.tar"
      ],
      "id": "RgrKIVpw8lQ5",
      "execution_count": 9,
      "outputs": [
        {
          "output_type": "stream",
          "text": [
            "/content\n",
            "--2021-03-12 05:40:43--  http://www.cs.cmu.edu/~spurushw/hw2_files/selective_search_data.tar\n",
            "Resolving www.cs.cmu.edu (www.cs.cmu.edu)... 128.2.42.95\n",
            "Connecting to www.cs.cmu.edu (www.cs.cmu.edu)|128.2.42.95|:80... connected.\n",
            "HTTP request sent, awaiting response... 404 Not Found\n",
            "2021-03-12 05:40:44 ERROR 404: Not Found.\n",
            "\n",
            "tar: selective_search_data.tar: Cannot open: No such file or directory\n",
            "tar: Error is not recoverable: exiting now\n"
          ],
          "name": "stdout"
        }
      ]
    },
    {
      "cell_type": "code",
      "metadata": {
        "id": "moved-crisis"
      },
      "source": [
        "import torch\n",
        "import wandb\n",
        "import scipy.io\n",
        "\n",
        "import numpy as np\n",
        "\n",
        "import torch.nn as nn\n",
        "import torch.nn.functional as F\n",
        "import torchvision.models as models\n",
        "from torchvision import transforms, datasets\n",
        "from torch.utils.data import DataLoader\n",
        "\n",
        "from voc_dataset import VOCDataset\n",
        "\n",
        "from PIL import Image\n",
        "\n",
        "from utils import *\n",
        "\n",
        "USE_WANDB = False"
      ],
      "id": "moved-crisis",
      "execution_count": null,
      "outputs": []
    },
    {
      "cell_type": "markdown",
      "metadata": {
        "id": "angry-prague"
      },
      "source": [
        "## Editing the Dataloader\n",
        "The first part of the assignment involves editing the dataloader so that we can access bounding-box proposals as well as the ground-truth bounding boxes. The ground truth bounding box can be accessed through the VOC Dataset annotations itself. Unsupervised bounding box proposals are obtained through methods such as [Selective Search](https://ivi.fnwi.uva.nl/isis/publications/2013/UijlingsIJCV2013/UijlingsIJCV2013.pdf).\n",
        "\n",
        "Since Selective Search is slow to run on each image, we have pre-computed the bounding box proposals. You should be able to access the `.mat` files using `scipy.io.loadmat('file.mat')`. Feel free to experiment with the data in the files to figure out the number of proposals per image, their scores, etc.\n",
        "\n",
        "Your task is to change the dataloader to obtain the ground-truth bounding boxes, as well as the proposed bounding boxes for each image. Returning a dictionary would be convenient here. For the bounding boxes, using the relative positions is usually a better idea since they are invariant to changes in the size of the image."
      ],
      "id": "angry-prague"
    },
    {
      "cell_type": "code",
      "metadata": {
        "id": "thousand-messaging"
      },
      "source": [
        "# Load the Dataset - items at a particular index can be accesed by usual indexing notation (dataset[idx])\n",
        "dataset = VOCDataset('trainval', top_n=10)"
      ],
      "id": "thousand-messaging",
      "execution_count": null,
      "outputs": []
    },
    {
      "cell_type": "code",
      "metadata": {
        "id": "confused-witness"
      },
      "source": [
        "#TODO: get the image information from index 2020\n",
        "idx = 2020\n",
        "\n",
        "# input = "
      ],
      "id": "confused-witness",
      "execution_count": null,
      "outputs": []
    },
    {
      "cell_type": "markdown",
      "metadata": {
        "id": "rational-recycling"
      },
      "source": [
        "## Wandb Init and Logging\n",
        "Initialize a Weights and Biases project, and convert the image tensor to a PIL image and plot it (check `utils.py` for helper functions).\n",
        "\n",
        "You can use [this](https://docs.wandb.ai/library/log) as a reference for logging syntax."
      ],
      "id": "rational-recycling"
    },
    {
      "cell_type": "code",
      "metadata": {
        "id": "conventional-flexibility"
      },
      "source": [
        "if USE_WANDB:\n",
        "    wandb.init(project=\"vlr2\", reinit=True)"
      ],
      "id": "conventional-flexibility",
      "execution_count": null,
      "outputs": []
    },
    {
      "cell_type": "markdown",
      "metadata": {
        "id": "demanding-ladder"
      },
      "source": [
        "See this block as an example of plotting the ground truth box for an image."
      ],
      "id": "demanding-ladder"
    },
    {
      "cell_type": "code",
      "metadata": {
        "id": "resistant-concert"
      },
      "source": [
        "class_id_to_label = dict(enumerate(dataset.CLASS_NAMES))\n",
        "\n",
        "img = wandb.Image(original_image, boxes={\n",
        "    \"predictions\": {\n",
        "        \"box_data\": get_box_data(gt_labels, gt_boxes),\n",
        "        \"class_labels\": class_id_to_label,\n",
        "    },\n",
        "})"
      ],
      "id": "resistant-concert",
      "execution_count": null,
      "outputs": []
    },
    {
      "cell_type": "markdown",
      "metadata": {
        "id": "matched-thread"
      },
      "source": [
        "Check the `get_box_data` function in `utils.py` and understand how it is being used. Log the image with the GT bounding box on wandb.\n",
        "After, this you should be able to easily plot the top 10 bounding proposals as well."
      ],
      "id": "matched-thread"
    },
    {
      "cell_type": "code",
      "metadata": {
        "id": "floating-repository"
      },
      "source": [
        "nums = range(len(rois)) # placeholder for names of proposals\n",
        "\n",
        "#TODO: plot top ten proposals (of bounding boxes)"
      ],
      "id": "floating-repository",
      "execution_count": null,
      "outputs": []
    }
  ]
}